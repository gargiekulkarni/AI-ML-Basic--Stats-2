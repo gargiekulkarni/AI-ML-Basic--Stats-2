{
 "cells": [
  {
   "cell_type": "markdown",
   "id": "c7b53e6f",
   "metadata": {},
   "source": [
    "## a. . Build 99% Confidence Interval Using Sample Standard Deviation"
   ]
  },
  {
   "cell_type": "markdown",
   "id": "d7229995",
   "metadata": {},
   "source": [
    "### Steps Overview \n",
    "\n",
    "1. Import Necessary Library\n",
    "2. Store the data\n",
    "3. Calculate sample mean, sample standard deviation and degrees of freedom\n",
    "4. Find the critical t-value\n",
    "5. Compute the margin of error\n",
    "6. Construct the confidence interval"
   ]
  },
  {
   "cell_type": "markdown",
   "id": "b559e31f",
   "metadata": {},
   "source": [
    "### Why t-distribution?\n",
    "\n",
    "1. The sample size is < 30\n",
    "2. The population standard deviation is unknown\n",
    "3. We assume the sample is from a normally distributed population."
   ]
  },
  {
   "cell_type": "code",
   "execution_count": 6,
   "id": "36ba0df1",
   "metadata": {},
   "outputs": [],
   "source": [
    "import numpy as np\n",
    "from scipy import stats\n"
   ]
  },
  {
   "cell_type": "code",
   "execution_count": 3,
   "id": "07c0d0aa",
   "metadata": {},
   "outputs": [],
   "source": [
    "data = [1.13, 1.55, 1.43, 0.92, 1.25, 1.36, 1.32, 0.85, 1.07, 1.48, 1.20, 1.33, 1.18, 1.22, 1.29]"
   ]
  },
  {
   "cell_type": "code",
   "execution_count": 4,
   "id": "3a3f7700",
   "metadata": {},
   "outputs": [
    {
     "data": {
      "text/plain": [
       "15"
      ]
     },
     "execution_count": 4,
     "metadata": {},
     "output_type": "execute_result"
    }
   ],
   "source": [
    "Len_data = len(data)\n",
    "Len_data"
   ]
  },
  {
   "cell_type": "code",
   "execution_count": 11,
   "id": "1a2c17c4",
   "metadata": {},
   "outputs": [],
   "source": [
    "mean = np.mean(data)\n",
    "std_dev = np.std(data, ddof=1)\n",
    "df = Len_data-1"
   ]
  },
  {
   "cell_type": "code",
   "execution_count": 8,
   "id": "b26cb407",
   "metadata": {},
   "outputs": [
    {
     "data": {
      "text/plain": [
       "2.976842734370834"
      ]
     },
     "execution_count": 8,
     "metadata": {},
     "output_type": "execute_result"
    }
   ],
   "source": [
    "confidence_level = 0.99\n",
    "t_distribution = stats.t.ppf((1+confidence_level)/2,df)\n",
    "t_distribution"
   ]
  },
  {
   "cell_type": "code",
   "execution_count": 12,
   "id": "58cf85e7",
   "metadata": {},
   "outputs": [
    {
     "data": {
      "text/plain": [
       "0.14846932822817596"
      ]
     },
     "execution_count": 12,
     "metadata": {},
     "output_type": "execute_result"
    }
   ],
   "source": [
    "margin_of_error = t_distribution * (std_dev/np.sqrt(Len_data))\n",
    "margin_of_error"
   ]
  },
  {
   "cell_type": "code",
   "execution_count": 14,
   "id": "2e6cafb9",
   "metadata": {},
   "outputs": [
    {
     "name": "stdout",
     "output_type": "stream",
     "text": [
      "Sample Mean : 1.2387\n",
      "Sample Standard Deviation : 0.1932\n",
      "99% Confidence Interval: (1.0902,1.3871)\n"
     ]
    }
   ],
   "source": [
    "lower_bound = mean - margin_of_error\n",
    "upper_bound = mean + margin_of_error\n",
    "\n",
    "print(f\"Sample Mean : {mean:.4f}\")\n",
    "print(f\"Sample Standard Deviation : {std_dev:.4f}\")\n",
    "print(f\"99% Confidence Interval: ({lower_bound:.4f},{upper_bound:.4f})\")"
   ]
  },
  {
   "cell_type": "markdown",
   "id": "0baac6cc",
   "metadata": {},
   "source": [
    "## b.Build 99% Confidence Interval Using Known Population Standard Deviation"
   ]
  },
  {
   "cell_type": "code",
   "execution_count": 17,
   "id": "35860478",
   "metadata": {},
   "outputs": [
    {
     "name": "stdout",
     "output_type": "stream",
     "text": [
      "Sample mean: 1.2387\n",
      "99% Confidence Interval (std dev known):(1.1057,1.3717)\n"
     ]
    }
   ],
   "source": [
    "from scipy.stats import norm\n",
    "std_dev=0.2\n",
    "z_critical = norm.ppf((1+confidence_level)/2)\n",
    "margin_of_error = z_critical * (std_dev/np.sqrt(Len_data))\n",
    "\n",
    "lower_bound = mean - margin_of_error\n",
    "upper_bound = mean + margin_of_error\n",
    "\n",
    "print(f\"Sample mean: {mean:.4f}\")\n",
    "print(f\"99% Confidence Interval (std dev known):({lower_bound:.4f},{upper_bound:.4f})\")"
   ]
  },
  {
   "cell_type": "code",
   "execution_count": null,
   "id": "42d2498e",
   "metadata": {},
   "outputs": [],
   "source": []
  }
 ],
 "metadata": {
  "kernelspec": {
   "display_name": "base",
   "language": "python",
   "name": "python3"
  },
  "language_info": {
   "codemirror_mode": {
    "name": "ipython",
    "version": 3
   },
   "file_extension": ".py",
   "mimetype": "text/x-python",
   "name": "python",
   "nbconvert_exporter": "python",
   "pygments_lexer": "ipython3",
   "version": "3.12.7"
  }
 },
 "nbformat": 4,
 "nbformat_minor": 5
}
